{
  "nbformat": 4,
  "nbformat_minor": 0,
  "metadata": {
    "colab": {
      "provenance": []
    },
    "kernelspec": {
      "name": "python3",
      "display_name": "Python 3"
    },
    "language_info": {
      "name": "python"
    }
  },
  "cells": [
    {
      "cell_type": "markdown",
      "source": [
        "Task : 7.1"
      ],
      "metadata": {
        "id": "HzOQhU9awQE7"
      }
    },
    {
      "cell_type": "code",
      "source": [
        "temperatures = [\n",
        "    8.2, 17.4, 14.1, 7.9, 18.0, 13.5, 9.0, 17.8, 13.0, 8.5, 16.5, 12.9, 7.7, 17.2, 13.3, 8.4, 16.7,\n",
        "    14.0, 9.5, 18.3, 13.4, 8.1, 17.9, 14.2, 7.6, 17.0, 12.8, 8.0, 16.8, 13.7, 7.8, 17.5, 13.6, 8.7,\n",
        "    17.1, 13.8, 9.2, 18.1, 13.9, 8.3, 16.4, 12.7, 8.9, 18.2, 13.1, 7.8, 16.6, 12.5\n",
        "]\n",
        "\n",
        "# Initializing the lists for classifications\n",
        "cold = []\n",
        "mild = []\n",
        "comfortable = []\n",
        "\n",
        "# Classifying each temperature\n",
        "for temp in temperatures:\n",
        "    if temp < 10:\n",
        "        cold.append(temp)\n",
        "    elif 10 <= temp <= 15:\n",
        "        mild.append(temp)\n",
        "    elif 15 < temp <= 20:\n",
        "        comfortable.append(temp)\n",
        "\n",
        "print(\"Cold temperatures (<10°C):\", cold)\n",
        "print(\"Mild temperatures (10°C-15°C):\", mild)\n",
        "print(\"Comfortable temperatures (15°C-20°C):\", comfortable)\n"
      ],
      "metadata": {
        "colab": {
          "base_uri": "https://localhost:8080/"
        },
        "id": "j8zTfviKxDMq",
        "outputId": "991a7bcc-4106-4fec-8f60-637c9d7350d8"
      },
      "execution_count": 3,
      "outputs": [
        {
          "output_type": "stream",
          "name": "stdout",
          "text": [
            "Cold temperatures (<10°C): [8.2, 7.9, 9.0, 8.5, 7.7, 8.4, 9.5, 8.1, 7.6, 8.0, 7.8, 8.7, 9.2, 8.3, 8.9, 7.8]\n",
            "Mild temperatures (10°C-15°C): [14.1, 13.5, 13.0, 12.9, 13.3, 14.0, 13.4, 14.2, 12.8, 13.7, 13.6, 13.8, 13.9, 12.7, 13.1, 12.5]\n",
            "Comfortable temperatures (15°C-20°C): [17.4, 18.0, 17.8, 16.5, 17.2, 16.7, 18.3, 17.9, 17.0, 16.8, 17.5, 17.1, 18.1, 16.4, 18.2, 16.6]\n"
          ]
        }
      ]
    },
    {
      "cell_type": "markdown",
      "source": [
        "Task-2\n"
      ],
      "metadata": {
        "id": "j5ndlH6gw3gf"
      }
    },
    {
      "cell_type": "code",
      "source": [
        "# Given temperatures list\n",
        "temperatures = [\n",
        "    8.2, 17.4, 14.1, 7.9, 18.0, 13.5, 9.0, 17.8, 13.0, 8.5, 16.5, 12.9, 7.7, 17.2, 13.3, 8.4, 16.7,\n",
        "    14.0, 9.5, 18.3, 13.4, 8.1, 17.9, 14.2, 7.6, 17.0, 12.8, 8.0, 16.8, 13.7, 7.8, 17.5, 13.6, 8.7,\n",
        "    17.1, 13.8, 9.2, 18.1, 13.9, 8.3, 16.4, 12.7, 8.9, 18.2, 13.1, 7.8, 16.6, 12.5\n",
        "]\n",
        "\n",
        "# Initializing the lists for classifications\n",
        "cold = []\n",
        "mild = []\n",
        "comfortable = []\n",
        "\n",
        "# Classifying each temperature\n",
        "for temp in temperatures:\n",
        "    if temp < 10:\n",
        "        cold.append(temp)\n",
        "    elif 10 <= temp <= 15:\n",
        "        mild.append(temp)\n",
        "    elif 15 < temp <= 20:\n",
        "        comfortable.append(temp)\n",
        "\n",
        "print(\"Cold temperatures (<10°C):\", cold)\n",
        "print(\"Mild temperatures (10°C-15°C):\", mild)\n",
        "print(\"Comfortable temperatures (15°C-20°C):\", comfortable)\n",
        "\n",
        "mild_count = len(mild)\n",
        "comfortable_count = len(comfortable)\n",
        "cold_count = len(cold)\n",
        "\n",
        "print(f\"How many times was it mild? {mild_count} times\")\n",
        "print(f\"How many times was it comfortable? {comfortable_count} times\")\n",
        "print(f\"How many times was it cold? {cold_count} times\")\n"
      ],
      "metadata": {
        "colab": {
          "base_uri": "https://localhost:8080/"
        },
        "id": "yZr-KCoow5IK",
        "outputId": "0b19b6ca-e062-4167-d0b6-98245bb644dd"
      },
      "execution_count": 4,
      "outputs": [
        {
          "output_type": "stream",
          "name": "stdout",
          "text": [
            "Cold temperatures (<10°C): [8.2, 7.9, 9.0, 8.5, 7.7, 8.4, 9.5, 8.1, 7.6, 8.0, 7.8, 8.7, 9.2, 8.3, 8.9, 7.8]\n",
            "Mild temperatures (10°C-15°C): [14.1, 13.5, 13.0, 12.9, 13.3, 14.0, 13.4, 14.2, 12.8, 13.7, 13.6, 13.8, 13.9, 12.7, 13.1, 12.5]\n",
            "Comfortable temperatures (15°C-20°C): [17.4, 18.0, 17.8, 16.5, 17.2, 16.7, 18.3, 17.9, 17.0, 16.8, 17.5, 17.1, 18.1, 16.4, 18.2, 16.6]\n",
            "How many times was it mild? 16 times\n",
            "How many times was it comfortable? 16 times\n",
            "How many times was it cold? 16 times\n"
          ]
        }
      ]
    },
    {
      "cell_type": "markdown",
      "source": [
        "Task-3\n"
      ],
      "metadata": {
        "id": "r5Qw3CIFxgU-"
      }
    },
    {
      "cell_type": "code",
      "source": [
        "# Given temperatures list (in Celsius)\n",
        "temperatures = [\n",
        "    8.2, 17.4, 14.1, 7.9, 18.0, 13.5, 9.0, 17.8, 13.0, 8.5, 16.5, 12.9, 7.7, 17.2, 13.3, 8.4, 16.7,\n",
        "    14.0, 9.5, 18.3, 13.4, 8.1, 17.9, 14.2, 7.6, 17.0, 12.8, 8.0, 16.8, 13.7, 7.8, 17.5, 13.6, 8.7,\n",
        "    17.1, 13.8, 9.2, 18.1, 13.9, 8.3, 16.4, 12.7, 8.9, 18.2, 13.1, 7.8, 16.6, 12.5\n",
        "]\n",
        "\n",
        "temps_fahrenheit = []\n",
        "\n",
        "for temp_celsius in temperatures:\n",
        "    temp_fahrenheit = (temp_celsius * 9/5) + 32\n",
        "    temps_fahrenheit.append(temp_fahrenheit)\n",
        "\n",
        "print(\"Temperatures in Fahrenheit:\", temps_fahrenheit)\n"
      ],
      "metadata": {
        "colab": {
          "base_uri": "https://localhost:8080/"
        },
        "id": "EbO_lr7vxh3P",
        "outputId": "ce184a62-4c78-4514-c30d-e7e5dca5f2fb"
      },
      "execution_count": 6,
      "outputs": [
        {
          "output_type": "stream",
          "name": "stdout",
          "text": [
            "Temperatures in Fahrenheit: [46.76, 63.32, 57.379999999999995, 46.22, 64.4, 56.3, 48.2, 64.04, 55.4, 47.3, 61.7, 55.22, 45.86, 62.959999999999994, 55.94, 47.120000000000005, 62.059999999999995, 57.2, 49.1, 64.94, 56.120000000000005, 46.58, 64.22, 57.56, 45.68, 62.6, 55.04, 46.4, 62.24, 56.66, 46.04, 63.5, 56.48, 47.66, 62.78, 56.84, 48.56, 64.58, 57.02, 46.94, 61.519999999999996, 54.86, 48.02, 64.75999999999999, 55.58, 46.04, 61.88, 54.5]\n"
          ]
        }
      ]
    },
    {
      "cell_type": "markdown",
      "source": [
        "Task-4"
      ],
      "metadata": {
        "id": "uonQdOMpyCAj"
      }
    },
    {
      "cell_type": "code",
      "source": [
        "temperatures = [\n",
        "    8.2, 17.4, 14.1, 7.9, 18.0, 13.5, 9.0, 17.8, 13.0, 8.5, 16.5, 12.9, 7.7, 17.2, 13.3, 8.4, 16.7,\n",
        "    14.0, 9.5, 18.3, 13.4, 8.1, 17.9, 14.2, 7.6, 17.0, 12.8, 8.0, 16.8, 13.7, 7.8, 17.5, 13.6, 8.7,\n",
        "    17.1, 13.8, 9.2, 18.1, 13.9, 8.3, 16.4, 12.7, 8.9, 18.2, 13.1, 7.8, 16.6, 12.5\n",
        "]\n",
        "\n",
        "\n",
        "night = []\n",
        "evening = []\n",
        "day = []\n",
        "\n",
        "for i in range(len(temperatures)):\n",
        "    if i % 3 == 0:\n",
        "        night.append(temperatures[i])\n",
        "    elif i % 3 == 1:\n",
        "        evening.append(temperatures[i])\n",
        "    else:\n",
        "        day.append(temperatures[i])\n",
        "\n",
        "\n",
        "average_day_temp = sum(day) / len(day)\n",
        "\n",
        "print(\"Night temperatures:\", night)\n",
        "print(\"Evening temperatures:\", evening)\n",
        "print(\"Day temperatures:\", day)\n",
        "print(f\"Average daytime temperature: {average_day_temp:.2f}°C\")\n",
        "\n"
      ],
      "metadata": {
        "colab": {
          "base_uri": "https://localhost:8080/"
        },
        "id": "-G9gXKT9yDWy",
        "outputId": "8ef1621b-2b50-4545-ff94-625fd3b6c06d"
      },
      "execution_count": 7,
      "outputs": [
        {
          "output_type": "stream",
          "name": "stdout",
          "text": [
            "Night temperatures: [8.2, 7.9, 9.0, 8.5, 7.7, 8.4, 9.5, 8.1, 7.6, 8.0, 7.8, 8.7, 9.2, 8.3, 8.9, 7.8]\n",
            "Evening temperatures: [17.4, 18.0, 17.8, 16.5, 17.2, 16.7, 18.3, 17.9, 17.0, 16.8, 17.5, 17.1, 18.1, 16.4, 18.2, 16.6]\n",
            "Day temperatures: [14.1, 13.5, 13.0, 12.9, 13.3, 14.0, 13.4, 14.2, 12.8, 13.7, 13.6, 13.8, 13.9, 12.7, 13.1, 12.5]\n",
            "Average daytime temperature: 13.41°C\n"
          ]
        }
      ]
    },
    {
      "cell_type": "markdown",
      "source": [
        "Task- 8.1"
      ],
      "metadata": {
        "id": "b5LQniQCzNzy"
      }
    },
    {
      "cell_type": "code",
      "source": [
        "def min_coins(coins, amount):\n",
        "\n",
        "    dp = [float('inf')] * (amount + 1)\n",
        "    dp[0] = 0\n",
        "\n",
        "    for coin in coins:\n",
        "        for i in range(coin, amount + 1):\n",
        "            dp[i] = min(dp[i], dp[i - coin] + 1)\n",
        "\n",
        "    return dp[amount] if dp[amount] != float('inf') else -1\n",
        "\n",
        "coins = [1, 2, 5]\n",
        "amount = 11\n",
        "print(min_coins(coins, amount))\n"
      ],
      "metadata": {
        "colab": {
          "base_uri": "https://localhost:8080/"
        },
        "id": "S8pAvwk_zcyO",
        "outputId": "95f01f05-552e-4c54-cd0c-06c2b6cbfff7"
      },
      "execution_count": 11,
      "outputs": [
        {
          "output_type": "stream",
          "name": "stdout",
          "text": [
            "3\n"
          ]
        }
      ]
    },
    {
      "cell_type": "markdown",
      "source": [
        "task-2"
      ],
      "metadata": {
        "id": "rk8pZDwO0tsA"
      }
    },
    {
      "cell_type": "code",
      "source": [
        "def longest_common_subsequence(s1, s2):\n",
        "\n",
        "    dp = [[0] * (len(s2) + 1) for _ in range(len(s1) + 1)]\n",
        "\n",
        "    for i in range(1, len(s1) + 1):\n",
        "        for j in range(1, len(s2) + 1):\n",
        "            if s1[i - 1] == s2[j - 1]:\n",
        "                dp[i][j] = dp[i - 1][j - 1] + 1\n",
        "            else:\n",
        "                dp[i][j] = max(dp[i - 1][j], dp[i][j - 1])\n",
        "\n",
        "    return dp[len(s1)][len(s2)]\n",
        "\n",
        "s1 = \"abcde\"\n",
        "s2 = \"ace\"\n",
        "print(longest_common_subsequence(s1, s2))\n",
        "\n"
      ],
      "metadata": {
        "colab": {
          "base_uri": "https://localhost:8080/"
        },
        "id": "1ZFDlSCh2JUN",
        "outputId": "77e1faf4-54e1-4db5-84be-c88545029c15"
      },
      "execution_count": 12,
      "outputs": [
        {
          "output_type": "stream",
          "name": "stdout",
          "text": [
            "3\n"
          ]
        }
      ]
    }
  ]
}